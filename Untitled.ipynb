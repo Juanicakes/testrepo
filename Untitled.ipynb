{
 "cells": [
  {
   "cell_type": "markdown",
   "id": "170045c9-6b34-4515-a9e1-226a225c701b",
   "metadata": {},
   "source": [
    "# My Jupyter Notebook on IBM Watson Studio"
   ]
  },
  {
   "cell_type": "markdown",
   "id": "0e401e36-c329-411e-b442-7ece2fde2e4d",
   "metadata": {},
   "source": [
    "**Jack Snyders**"
   ]
  },
  {
   "cell_type": "markdown",
   "id": "14a428b7-d41c-4ec4-b04c-bafc03f8c050",
   "metadata": {},
   "source": [
    "*I am interested in data science because I love statistics and really like computer science. Since I enjoy both of these things, I believe data science would be a good fit for me.*"
   ]
  },
  {
   "cell_type": "markdown",
   "id": "c15f40d8-cad6-405b-8e15-7b021d074d57",
   "metadata": {},
   "source": [
    "### I thought it would be funny if I did code to prove that 9 + 10 does not equal 21"
   ]
  },
  {
   "cell_type": "code",
   "execution_count": 3,
   "id": "a60bdf7b-09ea-4b03-90f8-0b01aa95dd0a",
   "metadata": {},
   "outputs": [
    {
     "data": {
      "text/plain": [
       "True"
      ]
     },
     "execution_count": 3,
     "metadata": {},
     "output_type": "execute_result"
    }
   ],
   "source": [
    "9 + 10 != 21"
   ]
  },
  {
   "cell_type": "markdown",
   "id": "dba68616-f7bb-4b34-a3f5-dbfa1d26315d",
   "metadata": {},
   "source": [
    "__[Link to song that I like](https://www.youtube.com/watch?v=CZqQcSVLih4)__\n",
    "\n",
    "~~Strkethough~~\n",
    "\n",
    "<ol>\n",
    "    <li>part 1</li>\n",
    "    <li>part 2</li>\n",
    "    <li>part 3</li>\n",
    "\n",
    "   "
   ]
  },
  {
   "cell_type": "code",
   "execution_count": null,
   "id": "46f5d0cf-1fbb-46c2-8357-ae00ff191dce",
   "metadata": {},
   "outputs": [],
   "source": []
  }
 ],
 "metadata": {
  "kernelspec": {
   "display_name": "Python",
   "language": "python",
   "name": "conda-env-python-py"
  },
  "language_info": {
   "codemirror_mode": {
    "name": "ipython",
    "version": 3
   },
   "file_extension": ".py",
   "mimetype": "text/x-python",
   "name": "python",
   "nbconvert_exporter": "python",
   "pygments_lexer": "ipython3",
   "version": "3.7.12"
  }
 },
 "nbformat": 4,
 "nbformat_minor": 5
}
